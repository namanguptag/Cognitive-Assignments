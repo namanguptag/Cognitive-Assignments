{
  "cells": [
    {
      "cell_type": "code",
      "execution_count": 1,
      "metadata": {
        "colab": {
          "base_uri": "https://localhost:8080/",
          "height": 0
        },
        "id": "Hn1fT7GYb_6t",
        "outputId": "684d0d4b-f64e-4469-9deb-cee010354729"
      },
      "outputs": [
        {
          "name": "stderr",
          "output_type": "stream",
          "text": [
            "[nltk_data] Downloading package punkt to C:\\Users\\Naman\n",
            "[nltk_data]     Gupta\\AppData\\Roaming\\nltk_data...\n",
            "[nltk_data]   Package punkt is already up-to-date!\n",
            "[nltk_data] Downloading package punkt_tab to C:\\Users\\Naman\n",
            "[nltk_data]     Gupta\\AppData\\Roaming\\nltk_data...\n",
            "[nltk_data]   Package punkt_tab is already up-to-date!\n",
            "[nltk_data] Downloading package stopwords to C:\\Users\\Naman\n",
            "[nltk_data]     Gupta\\AppData\\Roaming\\nltk_data...\n",
            "[nltk_data]   Package stopwords is already up-to-date!\n",
            "[nltk_data] Downloading package wordnet to C:\\Users\\Naman\n",
            "[nltk_data]     Gupta\\AppData\\Roaming\\nltk_data...\n",
            "[nltk_data]   Package wordnet is already up-to-date!\n"
          ]
        },
        {
          "data": {
            "text/plain": [
              "True"
            ]
          },
          "execution_count": 1,
          "metadata": {},
          "output_type": "execute_result"
        }
      ],
      "source": [
        "import nltk\n",
        "from nltk.tokenize import word_tokenize, sent_tokenize\n",
        "from nltk.corpus import stopwords\n",
        "from nltk.stem import PorterStemmer, LancasterStemmer, WordNetLemmatizer\n",
        "from nltk.probability import FreqDist\n",
        "import re\n",
        "import matplotlib.pyplot as plt\n",
        "\n",
        "nltk.download('punkt')\n",
        "nltk.download('punkt_tab')\n",
        "nltk.download('stopwords')\n",
        "nltk.download('wordnet')"
      ]
    },
    {
      "cell_type": "markdown",
      "metadata": {},
      "source": [
        "**QUES 1**\n"
      ]
    },
    {
      "cell_type": "code",
      "execution_count": 2,
      "metadata": {
        "colab": {
          "base_uri": "https://localhost:8080/",
          "height": 671
        },
        "id": "eDJbqgffcwjx",
        "outputId": "d7e708ce-b230-42f5-cddb-06c9f27947d0"
      },
      "outputs": [
        {
          "name": "stdout",
          "output_type": "stream",
          "text": [
            "at thapar university the hostel wifi thaparnet usually works fine for regular browsing streaming and college work however as exam time approaches the network often slows down noticeably  probably because everyone is online at the same time for notes lectures and lastminute prep outside of exam season though the connection is generally stable and decent for most daily needs\n",
            "['at', 'thapar', 'university', 'the', 'hostel', 'wifi', 'thaparnet', 'usually', 'works', 'fine', 'for', 'regular', 'browsing', 'streaming', 'and', 'college', 'work', 'however', 'as', 'exam', 'time', 'approaches', 'the', 'network', 'often', 'slows', 'down', 'noticeably', 'probably', 'because', 'everyone', 'is', 'online', 'at', 'the', 'same', 'time', 'for', 'notes', 'lectures', 'and', 'lastminute', 'prep', 'outside', 'of', 'exam', 'season', 'though', 'the', 'connection', 'is', 'generally', 'stable', 'and', 'decent', 'for', 'most', 'daily', 'needs']\n",
            "['At Thapar University, the hostel Wi-Fi (ThaparNet) usually works fine for regular browsing, streaming, and college work.', 'However, as exam time approaches, the network often slows down noticeably — probably because everyone is online at the same time for notes, lectures, and last-minute prep.', 'Outside of exam season though, the connection is generally stable and decent for most daily needs.']\n",
            "['thapar', 'university', 'hostel', 'wifi', 'thaparnet', 'usually', 'works', 'fine', 'regular', 'browsing', 'streaming', 'college', 'work', 'however', 'exam', 'time', 'approaches', 'network', 'often', 'slows', 'noticeably', 'probably', 'everyone', 'online', 'time', 'notes', 'lectures', 'lastminute', 'prep', 'outside', 'exam', 'season', 'though', 'connection', 'generally', 'stable', 'decent', 'daily', 'needs']\n",
            "<FreqDist with 37 samples and 39 outcomes>\n"
          ]
        },
        {
          "data": {
            "text/plain": [
              "<Axes: title={'center': 'Top Words'}, xlabel='Samples', ylabel='Counts'>"
            ]
          },
          "execution_count": 2,
          "metadata": {},
          "output_type": "execute_result"
        },
        {
          "data": {
            "image/png": "[encoded data removed]",
            "text/plain": [
              "<Figure size 640x480 with 1 Axes>"
            ]
          },
          "metadata": {},
          "output_type": "display_data"
        }
      ],
      "source": [
        "txt = \"\"\"At Thapar University, the hostel Wi-Fi (ThaparNet) usually works fine for regular browsing, streaming, and college work. However, as exam time approaches, the network often slows down noticeably — probably because everyone is online at the same time for notes, lectures, and last-minute prep. Outside of exam season though, the connection is generally stable and decent for most daily needs.\"\"\"\n",
        "\n",
        "txt_clean = re.sub(r'[^\\w\\s]', '', txt.lower())\n",
        "print(txt_clean)\n",
        "\n",
        "w_tokens = word_tokenize(txt_clean)\n",
        "s_tokens = sent_tokenize(txt)\n",
        "print(w_tokens)\n",
        "print(s_tokens)\n",
        "\n",
        "sw = set(stopwords.words('english'))\n",
        "w_filtered = [w for w in w_tokens if w not in sw]\n",
        "print(w_filtered)\n",
        "\n",
        "fd = FreqDist(w_filtered)\n",
        "print(fd)\n",
        "fd.plot(10, title=\"Top Words\")"
      ]
    },
    {
      "cell_type": "markdown",
      "metadata": {},
      "source": [
        "**QUES 2**\n"
      ]
    },
    {
      "cell_type": "code",
      "execution_count": 3,
      "metadata": {
        "colab": {
          "base_uri": "https://localhost:8080/",
          "height": 0
        },
        "id": "0bevWUldcwml",
        "outputId": "8b170bef-9022-47e4-845d-e87c8eee0e1f"
      },
      "outputs": [
        {
          "name": "stdout",
          "output_type": "stream",
          "text": [
            "\n",
            "Original: ['thapar', 'university', 'hostel', 'wifi', 'thaparnet', 'usually', 'works', 'fine', 'regular', 'browsing', 'streaming', 'college', 'work', 'however', 'exam', 'time', 'approaches', 'network', 'often', 'slows', 'noticeably', 'probably', 'everyone', 'online', 'time', 'notes', 'lectures', 'lastminute', 'prep', 'outside', 'exam', 'season', 'though', 'connection', 'generally', 'stable', 'decent', 'daily', 'needs']\n",
            "Porter: ['thapar', 'univers', 'hostel', 'wifi', 'thaparnet', 'usual', 'work', 'fine', 'regular', 'brows', 'stream', 'colleg', 'work', 'howev', 'exam', 'time', 'approach', 'network', 'often', 'slow', 'notic', 'probabl', 'everyon', 'onlin', 'time', 'note', 'lectur', 'lastminut', 'prep', 'outsid', 'exam', 'season', 'though', 'connect', 'gener', 'stabl', 'decent', 'daili', 'need']\n",
            "Lancaster: ['thap', 'univers', 'hostel', 'wif', 'thaparnet', 'us', 'work', 'fin', 'regul', 'brows', 'streaming', 'colleg', 'work', 'howev', 'exam', 'tim', 'approach', 'network', 'oft', 'slow', 'not', 'prob', 'everyon', 'onlin', 'tim', 'not', 'lect', 'lastminut', 'prep', 'outsid', 'exam', 'season', 'though', 'connect', 'gen', 'stabl', 'dec', 'dai', 'nee']\n",
            "Lemmatized: ['thapar', 'university', 'hostel', 'wifi', 'thaparnet', 'usually', 'work', 'fine', 'regular', 'browsing', 'streaming', 'college', 'work', 'however', 'exam', 'time', 'approach', 'network', 'often', 'slows', 'noticeably', 'probably', 'everyone', 'online', 'time', 'note', 'lecture', 'lastminute', 'prep', 'outside', 'exam', 'season', 'though', 'connection', 'generally', 'stable', 'decent', 'daily', 'need']\n"
          ]
        }
      ],
      "source": [
        "ps = PorterStemmer()\n",
        "ls = LancasterStemmer()\n",
        "lm = WordNetLemmatizer()\n",
        "\n",
        "ps_words = [ps.stem(w) for w in w_filtered]\n",
        "ls_words = [ls.stem(w) for w in w_filtered]\n",
        "lm_words = [lm.lemmatize(w) for w in w_filtered]\n",
        "\n",
        "print(\"\\nOriginal:\", w_filtered)\n",
        "print(\"Porter:\", ps_words)\n",
        "print(\"Lancaster:\", ls_words)\n",
        "print(\"Lemmatized:\", lm_words)"
      ]
    },
    {
      "cell_type": "markdown",
      "metadata": {},
      "source": [
        "****QUES 3****"
      ]
    },
    {
      "cell_type": "code",
      "execution_count": 4,
      "metadata": {
        "colab": {
          "base_uri": "https://localhost:8080/",
          "height": 0
        },
        "id": "mGsC_k5QcwpC",
        "outputId": "69a77e62-6907-4f82-dbc4-509625b03618"
      },
      "outputs": [
        {
          "name": "stdout",
          "output_type": "stream",
          "text": [
            "['thapar', 'university', 'hostel', 'thaparnet', 'usually', 'regular', 'browsing', 'streaming', 'college', 'however', 'approaches', 'network', 'noticeably', 'probably', 'because', 'everyone', 'online', 'lectures', 'lastminute', 'outside', 'season', 'though', 'connection', 'generally', 'stable', 'decent']\n",
            "[]\n",
            "['At', 'Thapar', 'University', 'Wi', 'Fi', 'However', 'Outside']\n",
            "['at', 'thapar', 'university', 'the', 'hostel', 'wifi', 'thaparnet', 'usually', 'works', 'fine', 'for', 'regular', 'browsing', 'streaming', 'and', 'college', 'work', 'however', 'as', 'exam', 'time', 'approaches', 'the', 'network', 'often', 'slows', 'down', 'noticeably', 'probably', 'because', 'everyone', 'is', 'online', 'at', 'the', 'same', 'time', 'for', 'notes', 'lectures', 'and', 'lastminute', 'prep', 'outside', 'of', 'exam', 'season', 'though', 'the', 'connection', 'is', 'generally', 'stable', 'and', 'decent', 'for', 'most', 'daily', 'needs']\n",
            "['at', 'university', 'usually', 'and', 'as', 'exam', 'approaches', 'often', 'everyone', 'is', 'online', 'at', 'and', 'outside', 'of', 'exam', 'is', 'and']\n"
          ]
        }
      ],
      "source": [
        "w_long = re.findall(r'\\b\\w{6,}\\b', txt_clean)\n",
        "print(w_long)\n",
        "\n",
        "nums = re.findall(r'\\d+', txt_clean)\n",
        "print(nums)\n",
        "\n",
        "cap = re.findall(r'\\b[A-Z][a-z]+\\b', txt)\n",
        "print(cap)\n",
        "\n",
        "alpha = re.findall(r'\\b[a-z]+\\b', txt_clean)\n",
        "print(alpha)\n",
        "\n",
        "vowel = re.findall(r'\\b[aeiou][a-z]*\\b', txt_clean)\n",
        "print(vowel)\n"
      ]
    },
    {
      "cell_type": "markdown",
      "metadata": {},
      "source": [
        "**QUES 4**"
      ]
    },
    {
      "cell_type": "code",
      "execution_count": 5,
      "metadata": {
        "colab": {
          "base_uri": "https://localhost:8080/",
          "height": 0
        },
        "id": "xzcrn4l8dATo",
        "outputId": "b3db91fe-62e5-48f2-e571-4f2a4c99cfcb"
      },
      "outputs": [
        {
          "name": "stdout",
          "output_type": "stream",
          "text": [
            "['at', 'thapar', 'university', 'the', 'hostel', 'wi-fi', 'thaparnet', 'usually', 'works', 'fine', 'for', 'regular', 'browsing', 'streaming', 'and', 'college', 'work', 'however', 'as', 'exam', 'time', 'approaches', 'the', 'network', 'often', 'slows', 'down', 'noticeably', 'probably', 'because', 'everyone', 'is', 'online', 'at', 'the', 'same', 'time', 'for', 'notes', 'lectures', 'and', 'last-minute', 'prep', 'outside', 'of', 'exam', 'season', 'though', 'the', 'connection', 'is', 'generally', 'stable', 'and', 'decent', 'for', 'most', 'daily', 'needs', 'the', 'thapar', 'university', 'library', 'also', 'known', 'as', 'the', 'nava', 'nalanda', 'library', 'is', 'a', 'modern', 'and', 'well-equipped', 'learning', 'space', 'it', 'offers', 'a', 'wide', 'collection', 'of', 'academic', 'books', 'journals', 'e-resources', 'and', 'research', 'material', 'across', 'all', 'disciplines', 'the', 'library', 'has', 'quiet', 'study', 'zones', 'discussion', 'rooms', 'and', 'computer', 'labs', 'to', 'support', 'students', 'different', 'learning', 'needs']\n",
            "At Thapar University, the hostel Wi-Fi (ThaparNet) usually works fine for regular browsing, streaming, and college work. However, as exam time approaches, the network often slows down noticeably — probably because everyone is online at the same time for notes, lectures, and last-minute prep. Outside of exam season though, the connection is generally stable and decent for most daily needs.The Thapar University Library, also known as the Nava Nalanda Library, is a modern and well-equipped learning space. It offers a wide collection of academic books, journals, e-resources, and research material across all disciplines. The library has quiet study zones, discussion rooms, and computer labs to support students' different learning needs\n"
          ]
        }
      ],
      "source": [
        "txt1 = txt + \"The Thapar University Library, also known as the Nava Nalanda Library, is a modern and well-equipped learning space. It offers a wide collection of academic books, journals, e-resources, and research material across all disciplines. The library has quiet study zones, discussion rooms, and computer labs to support students' different learning needs\"\n",
        "def tok_custom(text):\n",
        "    pattern = r\"\"\"\n",
        "        \\b\\w+(?:-\\w+)+\\b       # 1. Match any hyphenated word (e.g. wi-fi)\n",
        "        | \\b\\d+\\.\\d+\\b         # 2. Match decimal numbers intact (e.g. 9.5)\n",
        "        | \\b\\w+(?:'\\w+)?\\b     # 3. Match words and contractions (e.g. aren't, that's)\n",
        "    \"\"\"\n",
        "    return re.findall(pattern, text, flags=re.VERBOSE)\n",
        "\n",
        "tokens = tok_custom(txt1.lower())\n",
        "print(tokens)\n",
        "\n",
        "txt_sub = txt1\n",
        "txt_sub = re.sub(r'\\S+@\\S+', '<EMAIL>', txt_sub)\n",
        "txt_sub = re.sub(r'https?://\\S+', '<URL>', txt_sub)\n",
        "txt_sub = re.sub(r'(\\+\\d{1,3} \\d{10}|\\d{3}-\\d{3}-\\d{4})', '<PHONE>', txt_sub)\n",
        "print(txt_sub)"
      ]
    }
  ],
  "metadata": {
    "colab": {
      "provenance": []
    },
    "kernelspec": {
      "display_name": "base",
      "language": "python",
      "name": "python3"
    },
    "language_info": {
      "codemirror_mode": {
        "name": "ipython",
        "version": 3
      },
      "file_extension": ".py",
      "mimetype": "text/x-python",
      "name": "python",
      "nbconvert_exporter": "python",
      "pygments_lexer": "ipython3",
      "version": "3.12.7"
    }
  },
  "nbformat": 4,
  "nbformat_minor": 0
}
